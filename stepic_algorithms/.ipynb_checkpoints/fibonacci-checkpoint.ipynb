{
 "cells": [
  {
   "cell_type": "code",
   "execution_count": 1,
   "metadata": {},
   "outputs": [],
   "source": [
    "import time"
   ]
  },
  {
   "cell_type": "code",
   "execution_count": 2,
   "metadata": {},
   "outputs": [],
   "source": [
    "def fib_dict(n):\n",
    "    F = {0:0, 1:1}\n",
    "    if n in F:\n",
    "        return F[n]\n",
    "    for i in range(2, n+1):\n",
    "        F[i] = F[i-1] + F[i-2]\n",
    "    return F[n]\n",
    "\n",
    "def fib_cur_prev(n):\n",
    "    prev, cur = 0,1 \n",
    "    \n",
    "    for i in range(n):\n",
    "        prev, cur = cur, prev+ cur\n",
    "        \n",
    "    return prev\n",
    "\n",
    "def fib(n):\n",
    "    if n==0:\n",
    "        return 0\n",
    "    elif n==1:\n",
    "        return 1\n",
    "    return fib(n-1) + fib(n-2)"
   ]
  },
  {
   "cell_type": "code",
   "execution_count": 7,
   "metadata": {},
   "outputs": [
    {
     "name": "stdout",
     "output_type": "stream",
     "text": [
      "cached with dict:\n",
      "5\n",
      "CPU times: user 21 µs, sys: 4 µs, total: 25 µs\n",
      "Wall time: 26 µs\n",
      "-----------------\n",
      "cur and prev cached:\n",
      "17167680177565\n",
      "CPU times: user 28 µs, sys: 4 µs, total: 32 µs\n",
      "Wall time: 47.2 µs\n",
      "-----------------\n",
      "recursive:\n",
      "6765\n",
      "CPU times: user 2.22 ms, sys: 0 ns, total: 2.22 ms\n",
      "Wall time: 2.19 ms\n",
      "-----------------\n"
     ]
    }
   ],
   "source": [
    "print(\"cached with dict:\")\n",
    "%time print(fib_dict(5))\n",
    "print(\"-----------------\")\n",
    "\n",
    "print(\"cur and prev cached:\")\n",
    "%time print(fib_dict(65))\n",
    "print(\"-----------------\")\n",
    "\n",
    "print(\"recursive:\")\n",
    "%time print(fib(20))\n",
    "print(\"-----------------\")"
   ]
  },
  {
   "cell_type": "code",
   "execution_count": 5,
   "metadata": {},
   "outputs": [],
   "source": [
    "F_mod = {0:0, 1:1}\n",
    "def fib_mod_last(n):\n",
    "    if n in F_mod:\n",
    "        return F_mod[n]\n",
    "    for i in range(2, n+1):\n",
    "        F_mod[i] = (F_mod[i-1] + F_mod[i-2]) % 10\n",
    "    return F_mod[n]\n",
    "\n",
    "def fib_mod_last_prev_cur(n):\n",
    "    prev, cur = 0,1 \n",
    "    \n",
    "    for i in range(n):\n",
    "        prev, cur = cur, (prev+ cur) % 10\n",
    "        \n",
    "    return prev"
   ]
  },
  {
   "cell_type": "code",
   "execution_count": 6,
   "metadata": {},
   "outputs": [
    {
     "name": "stdout",
     "output_type": "stream",
     "text": [
      "5\n",
      "5\n",
      "65\n",
      "5\n"
     ]
    }
   ],
   "source": [
    "# print(fib_mod_last(int(input())))\n",
    "print(fib_mod_last_prev_cur(int(input())))\n",
    "print(fib_mod_last_prev_cur(int(input())))"
   ]
  },
  {
   "cell_type": "code",
   "execution_count": 16,
   "metadata": {},
   "outputs": [],
   "source": [
    "F_mod = {0:0, 1:1}\n",
    "def fib_nm_mod(n, m):\n",
    "    k = 0\n",
    "    for i in range(2, 6*m):\n",
    "        F_mod[i] = (F_mod[i-1] + F_mod[i-2]) % m\n",
    "        k += 1\n",
    "        if F_mod[i] == 1 and F_mod[i-1]==0:\n",
    "            break\n",
    "    return F_mod[n%k]"
   ]
  },
  {
   "cell_type": "code",
   "execution_count": 17,
   "metadata": {},
   "outputs": [
    {
     "name": "stdout",
     "output_type": "stream",
     "text": [
      "10 2\n",
      "1\n"
     ]
    }
   ],
   "source": [
    "print(fib_nm_mod(*map(int, input().split())))"
   ]
  },
  {
   "cell_type": "code",
   "execution_count": null,
   "metadata": {},
   "outputs": [],
   "source": []
  }
 ],
 "metadata": {
  "kernelspec": {
   "display_name": "Python 3",
   "language": "python",
   "name": "python3"
  },
  "language_info": {
   "codemirror_mode": {
    "name": "ipython",
    "version": 3
   },
   "file_extension": ".py",
   "mimetype": "text/x-python",
   "name": "python",
   "nbconvert_exporter": "python",
   "pygments_lexer": "ipython3",
   "version": "3.6.6"
  }
 },
 "nbformat": 4,
 "nbformat_minor": 2
}
