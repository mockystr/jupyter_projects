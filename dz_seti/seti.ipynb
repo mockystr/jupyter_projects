{
 "cells": [
  {
   "cell_type": "code",
   "execution_count": 1,
   "metadata": {},
   "outputs": [],
   "source": [
    "import numpy as np\n",
    "import matplotlib.pyplot as plt\n",
    "import math\n",
    "import itertools\n",
    "import pandas as pd"
   ]
  },
  {
   "cell_type": "code",
   "execution_count": 2,
   "metadata": {},
   "outputs": [],
   "source": [
    "def optiSizeVec(vec):\n",
    "    optiVec = []\n",
    "    if len(vec) == 0:\n",
    "        return optiVec\n",
    "    if len(vec) == 1:\n",
    "        if vec[0] == 1:\n",
    "            return vec\n",
    "        else:\n",
    "            return optiVec\n",
    "    for i in range(1, len(vec) + 1):\n",
    "        if vec[-i] == 0:\n",
    "            continue\n",
    "        else:\n",
    "            for j in range(-len(vec), -i + 1):\n",
    "                optiVec.append(vec[j])\n",
    "            break;\n",
    "    return optiVec\n",
    "\n",
    "\n",
    "def BinPolySum(b1, b2):\n",
    "    result = []\n",
    "    shortest = None\n",
    "    longest = None\n",
    "    if (len(b1) == len(b2)):\n",
    "        for i in range(0, len(b1)):\n",
    "            result.append((int(b1[i]) + int(b2[i])) % 2)\n",
    "        result = optiSizeVec(result)\n",
    "        return result\n",
    "    elif (len(b1) > len(b2)):\n",
    "        shortest = b2\n",
    "        longest = b1\n",
    "    else:\n",
    "        shortest = b1\n",
    "        longest = b2\n",
    "    for i in range(0, len(shortest)):\n",
    "        result.append((b1[i] + b2[i]) % 2)\n",
    "    for j in range(len(shortest), len(longest)):\n",
    "        result.append(longest[j])\n",
    "    result = optiSizeVec(result)\n",
    "    return result\n",
    "\n",
    "\n",
    "def BinPolyMul(b1, b2):\n",
    "    result = []\n",
    "    for i in range(0, len(b1) + len(b2) - 1):\n",
    "        result.append(0)\n",
    "    for i in range(0, len(b1)):\n",
    "        if b1[i] == 0:\n",
    "            continue;\n",
    "        for j in range(0, len(b2)):\n",
    "            if b2[j] == 0:\n",
    "                continue\n",
    "            sumDegree = i + j\n",
    "            result[sumDegree] = 1\n",
    "    result = optiSizeVec(result)\n",
    "    return result\n",
    "\n",
    "\n",
    "def BinPolyDiv(b1, b2):\n",
    "    quotient = []\n",
    "    for i in range(0, len(b1)):\n",
    "        quotient.append(0)\n",
    "    remainder = b1\n",
    "    while (len(remainder) >= len(b2)):\n",
    "        # print 'Iteration'\n",
    "        dividendDegree = len(remainder) - 1\n",
    "        dividerDegree = len(b2) - 1\n",
    "        degreeDelta = dividendDegree - dividerDegree\n",
    "        quotient[degreeDelta] = 1\n",
    "        subQuotient = []\n",
    "        for i in range(0, degreeDelta + 1):\n",
    "            if i == degreeDelta:\n",
    "                subQuotient.append(1)\n",
    "            else:\n",
    "                subQuotient.append(0)\n",
    "        summer = BinPolyMul(b2, subQuotient)\n",
    "        # print 'quotient = '+str(quotient)\n",
    "        # print 'subQuotient = '+str(subQuotient)\n",
    "        # print 'summer = '+str(summer)\n",
    "        # print 'before sum remainder = '+str(remainder)\n",
    "        remainder = BinPolySum(remainder, summer)\n",
    "        # print 'before optiSizeVec remainder = '+str(remainder)\n",
    "        remainder = optiSizeVec(remainder)\n",
    "    # print 'remainder = '+str(remainder)\n",
    "    quotient = optiSizeVec(quotient)\n",
    "    remainder = optiSizeVec(remainder)\n",
    "    return (quotient, remainder)\n"
   ]
  },
  {
   "cell_type": "code",
   "execution_count": 3,
   "metadata": {},
   "outputs": [],
   "source": [
    "def code(m):\n",
    "    mx = BinPolyMul(m, xnk)\n",
    "    p = BinPolyDiv(mx, g)\n",
    "    v = BinPolySum(mx, p[1])\n",
    "    return v\n"
   ]
  },
  {
   "cell_type": "code",
   "execution_count": 4,
   "metadata": {},
   "outputs": [],
   "source": [
    "def comb(i, n):\n",
    "    return int(math.factorial(n) / (math.factorial(i) * math.factorial(n - i)))"
   ]
  },
  {
   "cell_type": "code",
   "execution_count": 5,
   "metadata": {},
   "outputs": [],
   "source": [
    "def gen_ex(i):\n",
    "    assert i <= 7, 'i must be < 7'\n",
    "    ex = i * '1' + '0' * (7 - i)\n",
    "    ex = list(set(itertools.permutations(ex)))\n",
    "    return list(map(lambda x: [int(i) for i in x], ex))\n",
    "# gen_ex(2)"
   ]
  },
  {
   "cell_type": "code",
   "execution_count": 6,
   "metadata": {},
   "outputs": [],
   "source": [
    "def decode(v):\n",
    "    n = 7\n",
    "    res = {'i': [], 'C': [], 'N0': [], 'C0': []}\n",
    "    \n",
    "    for i in range(0, n + 1):\n",
    "        N = 0\n",
    "        ex_list = gen_ex(i)\n",
    "        \n",
    "        for a in range(0, comb(i, n)):\n",
    "            rx = BinPolySum(v, ex_list[a])\n",
    "            sm = BinPolyDiv(rx, g)\n",
    "            \n",
    "            if sm:\n",
    "                N = N + 1\n",
    "                \n",
    "        res['i'].append(i)\n",
    "        res['C'].append(comb(i, n))\n",
    "        res['N0'].append(N)\n",
    "        res['C0'].append(N / comb(i, n))\n",
    "        if N == N / comb(i, n):\n",
    "            res['Примечание'] = 'Все возможные ошибки обнаружены'\n",
    "        else:\n",
    "            res['Примечание'] = 'Процент пропущенных ошибок: {}'.format(100 - 100 * (N / comb(i, n)))\n",
    "    return res"
   ]
  },
  {
   "cell_type": "code",
   "execution_count": 7,
   "metadata": {},
   "outputs": [],
   "source": [
    "pd.DataFrame([1,2,3])\n",
    "\n",
    "def table_data(d):\n",
    "    df = pd.DataFrame(data=d)\n",
    "    return df"
   ]
  },
  {
   "cell_type": "code",
   "execution_count": 8,
   "metadata": {},
   "outputs": [],
   "source": [
    "xnk = [0, 0, 0, 1]\n",
    "g = [1, 1, 0, 1]\n",
    "my_m = [1, 1, 1]"
   ]
  },
  {
   "cell_type": "code",
   "execution_count": 9,
   "metadata": {},
   "outputs": [
    {
     "data": {
      "text/plain": [
       "[0, 1, 0, 1, 1, 1]"
      ]
     },
     "execution_count": 9,
     "metadata": {},
     "output_type": "execute_result"
    }
   ],
   "source": [
    "code(my_m)"
   ]
  },
  {
   "cell_type": "code",
   "execution_count": 10,
   "metadata": {},
   "outputs": [
    {
     "data": {
      "text/plain": [
       "{'i': [0, 1, 2, 3, 4, 5, 6, 7],\n",
       " 'C': [1, 7, 21, 35, 35, 21, 7, 1],\n",
       " 'N0': [1, 7, 21, 35, 35, 21, 7, 1],\n",
       " 'C0': [1.0, 1.0, 1.0, 1.0, 1.0, 1.0, 1.0, 1.0],\n",
       " 'Примечание': 'Все возможные ошибки обнаружены'}"
      ]
     },
     "execution_count": 10,
     "metadata": {},
     "output_type": "execute_result"
    }
   ],
   "source": [
    "decode(code(my_m))"
   ]
  },
  {
   "cell_type": "code",
   "execution_count": 11,
   "metadata": {},
   "outputs": [
    {
     "data": {
      "text/html": [
       "<div>\n",
       "<style scoped>\n",
       "    .dataframe tbody tr th:only-of-type {\n",
       "        vertical-align: middle;\n",
       "    }\n",
       "\n",
       "    .dataframe tbody tr th {\n",
       "        vertical-align: top;\n",
       "    }\n",
       "\n",
       "    .dataframe thead th {\n",
       "        text-align: right;\n",
       "    }\n",
       "</style>\n",
       "<table border=\"1\" class=\"dataframe\">\n",
       "  <thead>\n",
       "    <tr style=\"text-align: right;\">\n",
       "      <th></th>\n",
       "      <th>i</th>\n",
       "      <th>C</th>\n",
       "      <th>N0</th>\n",
       "      <th>C0</th>\n",
       "      <th>Примечание</th>\n",
       "    </tr>\n",
       "  </thead>\n",
       "  <tbody>\n",
       "    <tr>\n",
       "      <th>0</th>\n",
       "      <td>0</td>\n",
       "      <td>1</td>\n",
       "      <td>1</td>\n",
       "      <td>1.0</td>\n",
       "      <td>Все возможные ошибки обнаружены</td>\n",
       "    </tr>\n",
       "    <tr>\n",
       "      <th>1</th>\n",
       "      <td>1</td>\n",
       "      <td>7</td>\n",
       "      <td>7</td>\n",
       "      <td>1.0</td>\n",
       "      <td>Все возможные ошибки обнаружены</td>\n",
       "    </tr>\n",
       "    <tr>\n",
       "      <th>2</th>\n",
       "      <td>2</td>\n",
       "      <td>21</td>\n",
       "      <td>21</td>\n",
       "      <td>1.0</td>\n",
       "      <td>Все возможные ошибки обнаружены</td>\n",
       "    </tr>\n",
       "    <tr>\n",
       "      <th>3</th>\n",
       "      <td>3</td>\n",
       "      <td>35</td>\n",
       "      <td>35</td>\n",
       "      <td>1.0</td>\n",
       "      <td>Все возможные ошибки обнаружены</td>\n",
       "    </tr>\n",
       "    <tr>\n",
       "      <th>4</th>\n",
       "      <td>4</td>\n",
       "      <td>35</td>\n",
       "      <td>35</td>\n",
       "      <td>1.0</td>\n",
       "      <td>Все возможные ошибки обнаружены</td>\n",
       "    </tr>\n",
       "    <tr>\n",
       "      <th>5</th>\n",
       "      <td>5</td>\n",
       "      <td>21</td>\n",
       "      <td>21</td>\n",
       "      <td>1.0</td>\n",
       "      <td>Все возможные ошибки обнаружены</td>\n",
       "    </tr>\n",
       "    <tr>\n",
       "      <th>6</th>\n",
       "      <td>6</td>\n",
       "      <td>7</td>\n",
       "      <td>7</td>\n",
       "      <td>1.0</td>\n",
       "      <td>Все возможные ошибки обнаружены</td>\n",
       "    </tr>\n",
       "    <tr>\n",
       "      <th>7</th>\n",
       "      <td>7</td>\n",
       "      <td>1</td>\n",
       "      <td>1</td>\n",
       "      <td>1.0</td>\n",
       "      <td>Все возможные ошибки обнаружены</td>\n",
       "    </tr>\n",
       "  </tbody>\n",
       "</table>\n",
       "</div>"
      ],
      "text/plain": [
       "   i   C  N0   C0                       Примечание\n",
       "0  0   1   1  1.0  Все возможные ошибки обнаружены\n",
       "1  1   7   7  1.0  Все возможные ошибки обнаружены\n",
       "2  2  21  21  1.0  Все возможные ошибки обнаружены\n",
       "3  3  35  35  1.0  Все возможные ошибки обнаружены\n",
       "4  4  35  35  1.0  Все возможные ошибки обнаружены\n",
       "5  5  21  21  1.0  Все возможные ошибки обнаружены\n",
       "6  6   7   7  1.0  Все возможные ошибки обнаружены\n",
       "7  7   1   1  1.0  Все возможные ошибки обнаружены"
      ]
     },
     "execution_count": 11,
     "metadata": {},
     "output_type": "execute_result"
    }
   ],
   "source": [
    "table_data(decode(code(my_m)))"
   ]
  },
  {
   "cell_type": "code",
   "execution_count": null,
   "metadata": {},
   "outputs": [],
   "source": []
  }
 ],
 "metadata": {
  "kernelspec": {
   "display_name": "Python 3",
   "language": "python",
   "name": "python3"
  },
  "language_info": {
   "codemirror_mode": {
    "name": "ipython",
    "version": 3
   },
   "file_extension": ".py",
   "mimetype": "text/x-python",
   "name": "python",
   "nbconvert_exporter": "python",
   "pygments_lexer": "ipython3",
   "version": "3.7.0"
  }
 },
 "nbformat": 4,
 "nbformat_minor": 2
}
