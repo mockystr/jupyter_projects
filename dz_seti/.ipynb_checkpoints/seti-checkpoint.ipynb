{
 "cells": [
  {
   "cell_type": "code",
   "execution_count": 68,
   "metadata": {},
   "outputs": [],
   "source": [
    "import numpy as np\n",
    "import matplotlib.pyplot as plt\n",
    "import math\n",
    "import itertools\n",
    "import pandas as pd"
   ]
  },
  {
   "cell_type": "code",
   "execution_count": 2,
   "metadata": {},
   "outputs": [],
   "source": [
    "# xnk = np.poly1d([1, 0, 0, 0])\n",
    "# g = np.poly1d([1, 1, 0, 1])\n",
    "# my_m = np.poly1d([1, 1, 1])\n",
    "# print(xnk)\n",
    "# print(g)\n",
    "# print(my_m)"
   ]
  },
  {
   "cell_type": "code",
   "execution_count": 3,
   "metadata": {},
   "outputs": [],
   "source": [
    "def optiSizeVec(vec):\n",
    "    optiVec = []\n",
    "    if len(vec) == 0:\n",
    "        return optiVec\n",
    "    if len(vec) == 1:\n",
    "        if vec[0] == 1:\n",
    "            return vec\n",
    "        else:\n",
    "            return optiVec\n",
    "    for i in range(1, len(vec) + 1):\n",
    "        if vec[-i] == 0:\n",
    "            continue\n",
    "        else:\n",
    "            for j in range(-len(vec), -i + 1):\n",
    "                optiVec.append(vec[j])\n",
    "            break;\n",
    "    return optiVec\n",
    "\n",
    "\n",
    "def BinPolySum(b1, b2):\n",
    "    result = []\n",
    "    shortest = None\n",
    "    longest = None\n",
    "    if (len(b1) == len(b2)):\n",
    "        for i in range(0, len(b1)):\n",
    "            result.append((int(b1[i]) + int(b2[i])) % 2)\n",
    "        result = optiSizeVec(result)\n",
    "        return result\n",
    "    elif (len(b1) > len(b2)):\n",
    "        shortest = b2\n",
    "        longest = b1\n",
    "    else:\n",
    "        shortest = b1\n",
    "        longest = b2\n",
    "    for i in range(0, len(shortest)):\n",
    "        result.append((b1[i] + b2[i]) % 2)\n",
    "    for j in range(len(shortest), len(longest)):\n",
    "        result.append(longest[j])\n",
    "    result = optiSizeVec(result)\n",
    "    return result\n",
    "\n",
    "\n",
    "def BinPolyMul(b1, b2):\n",
    "    result = []\n",
    "    for i in range(0, len(b1) + len(b2) - 1):\n",
    "        result.append(0)\n",
    "    for i in range(0, len(b1)):\n",
    "        if b1[i] == 0:\n",
    "            continue;\n",
    "        for j in range(0, len(b2)):\n",
    "            if b2[j] == 0:\n",
    "                continue\n",
    "            sumDegree = i + j\n",
    "            result[sumDegree] = 1\n",
    "    result = optiSizeVec(result)\n",
    "    return result\n",
    "\n",
    "\n",
    "def BinPolyDiv(b1, b2):\n",
    "    quotient = []\n",
    "    for i in range(0, len(b1)):\n",
    "        quotient.append(0)\n",
    "    remainder = b1\n",
    "    while (len(remainder) >= len(b2)):\n",
    "        # print 'Iteration'\n",
    "        dividendDegree = len(remainder) - 1\n",
    "        dividerDegree = len(b2) - 1\n",
    "        degreeDelta = dividendDegree - dividerDegree\n",
    "        quotient[degreeDelta] = 1\n",
    "        subQuotient = []\n",
    "        for i in range(0, degreeDelta + 1):\n",
    "            if i == degreeDelta:\n",
    "                subQuotient.append(1)\n",
    "            else:\n",
    "                subQuotient.append(0)\n",
    "        summer = BinPolyMul(b2, subQuotient)\n",
    "        # print 'quotient = '+str(quotient)\n",
    "        # print 'subQuotient = '+str(subQuotient)\n",
    "        # print 'summer = '+str(summer)\n",
    "        # print 'before sum remainder = '+str(remainder)\n",
    "        remainder = BinPolySum(remainder, summer)\n",
    "        # print 'before optiSizeVec remainder = '+str(remainder)\n",
    "        remainder = optiSizeVec(remainder)\n",
    "    # print 'remainder = '+str(remainder)\n",
    "    quotient = optiSizeVec(quotient)\n",
    "    remainder = optiSizeVec(remainder)\n",
    "    return (quotient, remainder)\n"
   ]
  },
  {
   "cell_type": "code",
   "execution_count": 4,
   "metadata": {},
   "outputs": [],
   "source": [
    "xnk = [0, 0, 0, 1]\n",
    "g = [1, 1, 0, 1]\n",
    "my_m = [1, 1, 1]"
   ]
  },
  {
   "cell_type": "code",
   "execution_count": 5,
   "metadata": {},
   "outputs": [],
   "source": [
    "def code(m):\n",
    "    mx = BinPolyMul(m, xnk)\n",
    "    p = BinPolyDiv(mx, g)\n",
    "    v = BinPolySum(mx, p[1])\n",
    "    return v\n"
   ]
  },
  {
   "cell_type": "code",
   "execution_count": 6,
   "metadata": {},
   "outputs": [
    {
     "data": {
      "text/plain": [
       "[0, 1, 0, 1, 1, 1]"
      ]
     },
     "execution_count": 6,
     "metadata": {},
     "output_type": "execute_result"
    }
   ],
   "source": [
    "code(my_m)"
   ]
  },
  {
   "cell_type": "code",
   "execution_count": 45,
   "metadata": {},
   "outputs": [],
   "source": [
    "def comb(i, n):\n",
    "    return int(math.factorial(n) / (math.factorial(i) * math.factorial(n - i)))"
   ]
  },
  {
   "cell_type": "code",
   "execution_count": 58,
   "metadata": {},
   "outputs": [],
   "source": [
    "def gen_ex(i):\n",
    "    assert i <= 7, 'i must be < 7'\n",
    "    ex = i * '1' + '0' * (7 - i)\n",
    "    ex = list(set(itertools.permutations(ex)))\n",
    "    return list(map(lambda x: [int(i) for i in x], ex))\n",
    "# gen_ex(2)"
   ]
  },
  {
   "cell_type": "code",
   "execution_count": 65,
   "metadata": {},
   "outputs": [],
   "source": [
    "def decode(v):\n",
    "    n = 7\n",
    "    all_C = {}\n",
    "    \n",
    "    for i in range(1, n + 1):\n",
    "        N = 0\n",
    "        ex_list = gen_ex(i)\n",
    "        \n",
    "        for a in range(0, comb(i, n)):\n",
    "            rx = BinPolySum(v, ex_list[a])\n",
    "            sm = BinPolyDiv(rx, g)\n",
    "            \n",
    "            if sm:\n",
    "                N = N + 1  \n",
    "        C0 = N / comb(i, n)\n",
    "        all_C[i] = C0\n",
    "    return all_C"
   ]
  },
  {
   "cell_type": "code",
   "execution_count": 66,
   "metadata": {},
   "outputs": [
    {
     "data": {
      "text/plain": [
       "{1: 1.0, 2: 1.0, 3: 1.0, 4: 1.0, 5: 1.0, 6: 1.0, 7: 1.0}"
      ]
     },
     "execution_count": 66,
     "metadata": {},
     "output_type": "execute_result"
    }
   ],
   "source": [
    "decode(code(my_m))"
   ]
  },
  {
   "cell_type": "code",
   "execution_count": 72,
   "metadata": {},
   "outputs": [
    {
     "name": "stdout",
     "output_type": "stream",
     "text": [
      "1 2\n"
     ]
    }
   ],
   "source": [
    "pd.DataFrame([1,2,3])\n",
    "\n",
    "def table_data(d):\n",
    "    df = pd.DataFrame()\n",
    "    for key, value in d.items():\n",
    "        print(key, value)"
   ]
  },
  {
   "cell_type": "code",
   "execution_count": null,
   "metadata": {},
   "outputs": [],
   "source": []
  }
 ],
 "metadata": {
  "kernelspec": {
   "display_name": "Python 3",
   "language": "python",
   "name": "python3"
  },
  "language_info": {
   "codemirror_mode": {
    "name": "ipython",
    "version": 3
   },
   "file_extension": ".py",
   "mimetype": "text/x-python",
   "name": "python",
   "nbconvert_exporter": "python",
   "pygments_lexer": "ipython3",
   "version": "3.7.0"
  }
 },
 "nbformat": 4,
 "nbformat_minor": 2
}
