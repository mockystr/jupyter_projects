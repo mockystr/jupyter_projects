{
 "cells": [
  {
   "cell_type": "code",
   "execution_count": 2,
   "metadata": {},
   "outputs": [],
   "source": [
    "import vk_api\n",
    "import time\n",
    "from tqdm import tnrange, tqdm_notebook, tqdm\n",
    "import settings"
   ]
  },
  {
   "cell_type": "code",
   "execution_count": 5,
   "metadata": {},
   "outputs": [],
   "source": [
    "def two_factor_handler():\n",
    "    code = input()\n",
    "    remember_device = False\n",
    "    return code, remember_device\n",
    "\n",
    "# vk_session = vk_api.VkApi(settings.login, settings.password, auth_handler=two_factor_handler)\n",
    "vk_session = vk_api.VkApi(settings.login,token='05682aaa55685bc00d8ca276fd0d71398398041487d8e174cb5f8a112c742351e27ec21cd604f447a76cf')\n",
    "\n",
    "vk_session.auth()\n",
    "\n",
    "vk = vk_session.get_api()\n",
    "conversation_name = \"Come back🥖🥖🥖\""
   ]
  },
  {
   "cell_type": "code",
   "execution_count": 7,
   "metadata": {},
   "outputs": [
    {
     "name": "stdout",
     "output_type": "stream",
     "text": [
      "{'GIRYA': 45, 'Come back🥖🥖🥖': 4, 'Бадминтон': 38, 'Dagestan BMSTU': 40, '🔥РТ5-51🔥': 26, 'РТ5-51 (Официальная информация)': 26, 'Два пидора': '', 'Сегодня 🍾🍾🍾': '', 'ManSpreading': 2, 'БЕЗ ФЛУДА DAG BMSTU': 29, 'Подсечка': 4, '🙃': 7, 'Досуг РТ5🎉': 15, 'ОТВЕТЫ ЭЛЕКТРОНИКА': 7, '13:00 у дома быта': 8}\n"
     ]
    }
   ],
   "source": [
    "confs = vk.messages.getConversations(count=200)\n",
    "confs = list(filter(lambda c: c['conversation']['peer']['type']=='chat',confs['items']))\n",
    "dict_confs = {}\n",
    "\n",
    "# print(confs)\n",
    "\n",
    "count_confs = len(confs)\n",
    "for i in range(0, count_confs):\n",
    "    chat_settings = confs[i]['conversation']['chat_settings']\n",
    "#     print(chat_settings['title'])\n",
    "    try:\n",
    "        dict_confs[chat_settings['title']] = chat_settings['members_count']\n",
    "    except KeyError:\n",
    "        dict_confs[chat_settings['title']] = ''\n",
    "print(dict_confs)\n",
    "# print(len(dict_confs))"
   ]
  },
  {
   "cell_type": "code",
   "execution_count": 13,
   "metadata": {},
   "outputs": [],
   "source": [
    "def take_messages(q, sleep_time=0.3):\n",
    "    convers = vk.messages.searchConversations(q=q)\n",
    "    convers_id = convers[\"items\"][0][\"peer\"]['id']\n",
    "    time.sleep(sleep_time)\n",
    "    \n",
    "    convers_len = vk.messages.getHistory(user_id=convers_id, count=0)['count']\n",
    "    time.sleep(sleep_time)\n",
    "    \n",
    "    if convers_len > 200:\n",
    "        conv_history = []\n",
    "#         prev_len = 0\n",
    "        pbar = tqdm_notebook(total=convers_len)\n",
    "        \n",
    "        resid = convers_len\n",
    "        offset = 0\n",
    "        \n",
    "        while resid > 0:\n",
    "            req = vk.messages.getHistory(user_id=convers_id, count=200, offset=offset)\n",
    "            # работает правильно только если в сообщении не больше одного аттачмента\n",
    "            # в ином случае он просто игнорирует все, кроме первого\n",
    "#             if len(conv_history) >= prev_len:\n",
    "#                 print('differ: {}'.format(len(conv_history) - prev_len))\n",
    "            prev_len = len(conv_history)\n",
    "            for i, r in enumerate(req['items']):\n",
    "                ret_list = (req['items'][i]['from_id'], req['items'][i]['text'],\n",
    "                           req['items'][i]['attachments'][0]['type'] if req['items'][i]['attachments'] else '')\n",
    "                conv_history.append(ret_list)\n",
    "            time.sleep(sleep_time)\n",
    "            resid -= 200\n",
    "            offset += 200\n",
    "            pbar.update(200)\n",
    "        pbar.close()\n",
    "    return conv_history"
   ]
  },
  {
   "cell_type": "code",
   "execution_count": 14,
   "metadata": {},
   "outputs": [
    {
     "data": {
      "application/vnd.jupyter.widget-view+json": {
       "model_id": "fc72b890d715452782b1f04a1a3b9e18",
       "version_major": 2,
       "version_minor": 0
      },
      "text/plain": [
       "HBox(children=(IntProgress(value=0, max=6044), HTML(value='')))"
      ]
     },
     "metadata": {},
     "output_type": "display_data"
    },
    {
     "name": "stdout",
     "output_type": "stream",
     "text": [
      "\n"
     ]
    }
   ],
   "source": [
    "all_messages = take_messages(conversation_name, sleep_time=0)"
   ]
  },
  {
   "cell_type": "code",
   "execution_count": 15,
   "metadata": {},
   "outputs": [
    {
     "name": "stdout",
     "output_type": "stream",
     "text": [
      "6045\n"
     ]
    }
   ],
   "source": [
    "print(len(all_messages))"
   ]
  },
  {
   "cell_type": "code",
   "execution_count": 16,
   "metadata": {},
   "outputs": [],
   "source": [
    "message_set = {}\n",
    "for m in all_messages:\n",
    "    if m[0] not in message_set:\n",
    "        message_set[m[0]] = 1\n",
    "    else:\n",
    "        message_set[m[0]] += 1"
   ]
  },
  {
   "cell_type": "code",
   "execution_count": 17,
   "metadata": {},
   "outputs": [],
   "source": [
    "new_ms = {}\n",
    "for i in message_set:\n",
    "    req = vk.users.get(user_ids=i)[0]\n",
    "#     time.sleep(0.3)\n",
    "    new_ms[req['first_name'] + \" \" + req[\"last_name\"]] = message_set[i]"
   ]
  },
  {
   "cell_type": "code",
   "execution_count": 18,
   "metadata": {},
   "outputs": [],
   "source": [
    "# import operator\n",
    "# # for i, v in new_ms.items():\n",
    "# #     print(\"{}\\t{}\".format(i,v))\n",
    "# print(sorted(new_ms.items(), key=operator.itemgetter(1), reverse=True))"
   ]
  },
  {
   "cell_type": "code",
   "execution_count": 25,
   "metadata": {},
   "outputs": [
    {
     "name": "stdout",
     "output_type": "stream",
     "text": [
      "                     amount_of_messages\n",
      "Муса Шахрудинил                    1764\n",
      "Ємир Наврузов                      1679\n",
      "Мага Кантулаев                     1586\n",
      "Джамал Абдулбасиров                1016\n"
     ]
    },
    {
     "data": {
      "text/plain": [
       "array([<matplotlib.axes._subplots.AxesSubplot object at 0x7fac99e03240>],\n",
       "      dtype=object)"
      ]
     },
     "execution_count": 25,
     "metadata": {},
     "output_type": "execute_result"
    },
    {
     "data": {
      "image/png": "[encoded data removed]",
      "text/plain": [
       "<Figure size 576x576 with 1 Axes>"
      ]
     },
     "metadata": {},
     "output_type": "display_data"
    }
   ],
   "source": [
    "import pandas as pd\n",
    "\n",
    "df = pd.DataFrame(list(new_ms.values()), index=map(str, list(new_ms.keys())), columns=['amount_of_messages'])\n",
    "\n",
    "print(df.sort_values(['amount_of_messages'],ascending=False).head(50))\n",
    "\n",
    "df.plot(kind='pie', subplots=True, figsize=(8, 8))"
   ]
  },
  {
   "cell_type": "code",
   "execution_count": 23,
   "metadata": {},
   "outputs": [
    {
     "name": "stdout",
     "output_type": "stream",
     "text": [
      "['access_token=49f3c621d4c8ff0d7d38f4ec32b913839a56dd69dd0636e88ee37ac2639e01d1d0526ba7730ecaa94a414&expires_in=86400&user_id=170285902&state=123456']\n",
      "{'access_token': '49f3c621d4c8ff0d7d38f4ec32b913839a56dd69dd0636e88ee37ac2639e01d1d0526ba7730ecaa94a414', 'expires_in': '86400', 'user_id': '170285902', 'state': '123456'}\n"
     ]
    }
   ],
   "source": [
    "import re\n",
    "# http://localhost:8000/#access_token=49f3c621d4c8ff0d7d38f4ec32b913839a56dd69dd0636e88ee37ac2639e01d1d0526ba7730ecaa94a414&expires_in=86400&user_id=170285902&state=123456\n",
    "\n",
    "full_path = 'http://localhost:8000/#access_token=49f3c621d4c8ff0d7d38f4ec32b913839a56dd69dd0636e88ee37ac2639e01d1d0526ba7730ecaa94a414&expires_in=86400&user_id=170285902&state=123456'\n",
    "print(full_path[23:].split('#'))\n",
    "fragment = {}\n",
    "for i in full_path[23:].split('&'):\n",
    "    fragment[i.split('=')[0]] = i.split('=')[1] \n",
    "print(fragment)"
   ]
  },
  {
   "cell_type": "code",
   "execution_count": null,
   "metadata": {},
   "outputs": [],
   "source": []
  }
 ],
 "metadata": {
  "kernelspec": {
   "display_name": "Python 3",
   "language": "python",
   "name": "python3"
  },
  "language_info": {
   "codemirror_mode": {
    "name": "ipython",
    "version": 3
   },
   "file_extension": ".py",
   "mimetype": "text/x-python",
   "name": "python",
   "nbconvert_exporter": "python",
   "pygments_lexer": "ipython3",
   "version": "3.7.0"
  }
 },
 "nbformat": 4,
 "nbformat_minor": 2
}
